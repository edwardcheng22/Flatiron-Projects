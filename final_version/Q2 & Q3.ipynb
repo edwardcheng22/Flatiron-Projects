{
 "cells": [
  {
   "cell_type": "markdown",
   "metadata": {},
   "source": [
    "### Datasets Analyzed\n",
    "- TN movie budgets\n",
    "- TMDB movies"
   ]
  },
  {
   "cell_type": "markdown",
   "metadata": {},
   "source": [
    "# Q2 - What are the top 10 most popular and highest rated films? Is there a relationship between popularity and highest rated?"
   ]
  },
  {
   "cell_type": "markdown",
   "metadata": {},
   "source": [
    "### Import Necessary Libraries"
   ]
  },
  {
   "cell_type": "code",
   "execution_count": 2,
   "metadata": {},
   "outputs": [],
   "source": [
    "import pandas as pd\n",
    "import numpy as np\n",
    "import matplotlib.pyplot as plt\n",
    "import seaborn as sns\n",
    "import datetime"
   ]
  },
  {
   "cell_type": "markdown",
   "metadata": {},
   "source": [
    "### Import TMDB Movies Dataset"
   ]
  },
  {
   "cell_type": "code",
   "execution_count": 3,
   "metadata": {},
   "outputs": [
    {
     "data": {
      "text/html": [
       "<div>\n",
       "<style scoped>\n",
       "    .dataframe tbody tr th:only-of-type {\n",
       "        vertical-align: middle;\n",
       "    }\n",
       "\n",
       "    .dataframe tbody tr th {\n",
       "        vertical-align: top;\n",
       "    }\n",
       "\n",
       "    .dataframe thead th {\n",
       "        text-align: right;\n",
       "    }\n",
       "</style>\n",
       "<table border=\"1\" class=\"dataframe\">\n",
       "  <thead>\n",
       "    <tr style=\"text-align: right;\">\n",
       "      <th></th>\n",
       "      <th>genre_ids</th>\n",
       "      <th>id</th>\n",
       "      <th>original_language</th>\n",
       "      <th>original_title</th>\n",
       "      <th>popularity</th>\n",
       "      <th>release_date</th>\n",
       "      <th>title</th>\n",
       "      <th>vote_average</th>\n",
       "      <th>vote_count</th>\n",
       "    </tr>\n",
       "  </thead>\n",
       "  <tbody>\n",
       "    <tr>\n",
       "      <th>0</th>\n",
       "      <td>[12, 14, 10751]</td>\n",
       "      <td>12444</td>\n",
       "      <td>en</td>\n",
       "      <td>Harry Potter and the Deathly Hallows: Part 1</td>\n",
       "      <td>33.533</td>\n",
       "      <td>2010-11-19</td>\n",
       "      <td>Harry Potter and the Deathly Hallows: Part 1</td>\n",
       "      <td>7.7</td>\n",
       "      <td>10788</td>\n",
       "    </tr>\n",
       "    <tr>\n",
       "      <th>1</th>\n",
       "      <td>[14, 12, 16, 10751]</td>\n",
       "      <td>10191</td>\n",
       "      <td>en</td>\n",
       "      <td>How to Train Your Dragon</td>\n",
       "      <td>28.734</td>\n",
       "      <td>2010-03-26</td>\n",
       "      <td>How to Train Your Dragon</td>\n",
       "      <td>7.7</td>\n",
       "      <td>7610</td>\n",
       "    </tr>\n",
       "    <tr>\n",
       "      <th>2</th>\n",
       "      <td>[12, 28, 878]</td>\n",
       "      <td>10138</td>\n",
       "      <td>en</td>\n",
       "      <td>Iron Man 2</td>\n",
       "      <td>28.515</td>\n",
       "      <td>2010-05-07</td>\n",
       "      <td>Iron Man 2</td>\n",
       "      <td>6.8</td>\n",
       "      <td>12368</td>\n",
       "    </tr>\n",
       "    <tr>\n",
       "      <th>3</th>\n",
       "      <td>[16, 35, 10751]</td>\n",
       "      <td>862</td>\n",
       "      <td>en</td>\n",
       "      <td>Toy Story</td>\n",
       "      <td>28.005</td>\n",
       "      <td>1995-11-22</td>\n",
       "      <td>Toy Story</td>\n",
       "      <td>7.9</td>\n",
       "      <td>10174</td>\n",
       "    </tr>\n",
       "    <tr>\n",
       "      <th>4</th>\n",
       "      <td>[28, 878, 12]</td>\n",
       "      <td>27205</td>\n",
       "      <td>en</td>\n",
       "      <td>Inception</td>\n",
       "      <td>27.920</td>\n",
       "      <td>2010-07-16</td>\n",
       "      <td>Inception</td>\n",
       "      <td>8.3</td>\n",
       "      <td>22186</td>\n",
       "    </tr>\n",
       "  </tbody>\n",
       "</table>\n",
       "</div>"
      ],
      "text/plain": [
       "             genre_ids     id original_language  \\\n",
       "0      [12, 14, 10751]  12444                en   \n",
       "1  [14, 12, 16, 10751]  10191                en   \n",
       "2        [12, 28, 878]  10138                en   \n",
       "3      [16, 35, 10751]    862                en   \n",
       "4        [28, 878, 12]  27205                en   \n",
       "\n",
       "                                 original_title  popularity release_date  \\\n",
       "0  Harry Potter and the Deathly Hallows: Part 1      33.533   2010-11-19   \n",
       "1                      How to Train Your Dragon      28.734   2010-03-26   \n",
       "2                                    Iron Man 2      28.515   2010-05-07   \n",
       "3                                     Toy Story      28.005   1995-11-22   \n",
       "4                                     Inception      27.920   2010-07-16   \n",
       "\n",
       "                                          title  vote_average  vote_count  \n",
       "0  Harry Potter and the Deathly Hallows: Part 1           7.7       10788  \n",
       "1                      How to Train Your Dragon           7.7        7610  \n",
       "2                                    Iron Man 2           6.8       12368  \n",
       "3                                     Toy Story           7.9       10174  \n",
       "4                                     Inception           8.3       22186  "
      ]
     },
     "execution_count": 3,
     "metadata": {},
     "output_type": "execute_result"
    }
   ],
   "source": [
    "tmdb_movies = pd.read_csv('zippedData/tmdb.movies.csv.gz', \n",
    "                          compression='gzip', \n",
    "                          header=0, \n",
    "                          sep=',', \n",
    "                          quotechar='\"', \n",
    "                          error_bad_lines=False, \n",
    "                          index_col=0)\n",
    "tmdb_movies.head()"
   ]
  },
  {
   "cell_type": "code",
   "execution_count": 4,
   "metadata": {},
   "outputs": [
    {
     "name": "stdout",
     "output_type": "stream",
     "text": [
      "<class 'pandas.core.frame.DataFrame'>\n",
      "Int64Index: 26517 entries, 0 to 26516\n",
      "Data columns (total 9 columns):\n",
      " #   Column             Non-Null Count  Dtype  \n",
      "---  ------             --------------  -----  \n",
      " 0   genre_ids          26517 non-null  object \n",
      " 1   id                 26517 non-null  int64  \n",
      " 2   original_language  26517 non-null  object \n",
      " 3   original_title     26517 non-null  object \n",
      " 4   popularity         26517 non-null  float64\n",
      " 5   release_date       26517 non-null  object \n",
      " 6   title              26517 non-null  object \n",
      " 7   vote_average       26517 non-null  float64\n",
      " 8   vote_count         26517 non-null  int64  \n",
      "dtypes: float64(2), int64(2), object(5)\n",
      "memory usage: 2.0+ MB\n"
     ]
    }
   ],
   "source": [
    "tmdb_movies.info()"
   ]
  },
  {
   "cell_type": "markdown",
   "metadata": {},
   "source": [
    "### Filtered dataset higher than 190 vote counts and movies for 2010 - 2020\n",
    "\n",
    "We filtered for movies that had above the average vote count of 190 to exclude movies that have high voting averages with low vote counts. We analyzed only movies released in the past 10 years due to box office numbers being a lot lower in previous decades which may drag the average box office numbers down."
   ]
  },
  {
   "cell_type": "code",
   "execution_count": 5,
   "metadata": {},
   "outputs": [
    {
     "data": {
      "text/html": [
       "<div>\n",
       "<style scoped>\n",
       "    .dataframe tbody tr th:only-of-type {\n",
       "        vertical-align: middle;\n",
       "    }\n",
       "\n",
       "    .dataframe tbody tr th {\n",
       "        vertical-align: top;\n",
       "    }\n",
       "\n",
       "    .dataframe thead th {\n",
       "        text-align: right;\n",
       "    }\n",
       "</style>\n",
       "<table border=\"1\" class=\"dataframe\">\n",
       "  <thead>\n",
       "    <tr style=\"text-align: right;\">\n",
       "      <th></th>\n",
       "      <th>id</th>\n",
       "      <th>popularity</th>\n",
       "      <th>vote_average</th>\n",
       "      <th>vote_count</th>\n",
       "    </tr>\n",
       "  </thead>\n",
       "  <tbody>\n",
       "    <tr>\n",
       "      <th>count</th>\n",
       "      <td>26022.000000</td>\n",
       "      <td>26022.000000</td>\n",
       "      <td>26022.000000</td>\n",
       "      <td>26022.000000</td>\n",
       "    </tr>\n",
       "    <tr>\n",
       "      <th>mean</th>\n",
       "      <td>298230.630620</td>\n",
       "      <td>3.113565</td>\n",
       "      <td>5.992253</td>\n",
       "      <td>189.232726</td>\n",
       "    </tr>\n",
       "    <tr>\n",
       "      <th>std</th>\n",
       "      <td>152145.893323</td>\n",
       "      <td>4.319625</td>\n",
       "      <td>1.851955</td>\n",
       "      <td>943.796552</td>\n",
       "    </tr>\n",
       "    <tr>\n",
       "      <th>min</th>\n",
       "      <td>189.000000</td>\n",
       "      <td>0.600000</td>\n",
       "      <td>0.000000</td>\n",
       "      <td>1.000000</td>\n",
       "    </tr>\n",
       "    <tr>\n",
       "      <th>25%</th>\n",
       "      <td>164657.750000</td>\n",
       "      <td>0.600000</td>\n",
       "      <td>5.000000</td>\n",
       "      <td>2.000000</td>\n",
       "    </tr>\n",
       "    <tr>\n",
       "      <th>50%</th>\n",
       "      <td>314128.000000</td>\n",
       "      <td>1.377500</td>\n",
       "      <td>6.000000</td>\n",
       "      <td>5.000000</td>\n",
       "    </tr>\n",
       "    <tr>\n",
       "      <th>75%</th>\n",
       "      <td>421398.250000</td>\n",
       "      <td>3.684500</td>\n",
       "      <td>7.000000</td>\n",
       "      <td>28.000000</td>\n",
       "    </tr>\n",
       "    <tr>\n",
       "      <th>max</th>\n",
       "      <td>608444.000000</td>\n",
       "      <td>80.773000</td>\n",
       "      <td>10.000000</td>\n",
       "      <td>22186.000000</td>\n",
       "    </tr>\n",
       "  </tbody>\n",
       "</table>\n",
       "</div>"
      ],
      "text/plain": [
       "                  id    popularity  vote_average    vote_count\n",
       "count   26022.000000  26022.000000  26022.000000  26022.000000\n",
       "mean   298230.630620      3.113565      5.992253    189.232726\n",
       "std    152145.893323      4.319625      1.851955    943.796552\n",
       "min       189.000000      0.600000      0.000000      1.000000\n",
       "25%    164657.750000      0.600000      5.000000      2.000000\n",
       "50%    314128.000000      1.377500      6.000000      5.000000\n",
       "75%    421398.250000      3.684500      7.000000     28.000000\n",
       "max    608444.000000     80.773000     10.000000  22186.000000"
      ]
     },
     "execution_count": 5,
     "metadata": {},
     "output_type": "execute_result"
    }
   ],
   "source": [
    "#Find the average vote count for all movies in the past 10 years\n",
    "tmdb_movies.loc[tmdb_movies['release_date'] > '2010-01-01'].describe()"
   ]
  },
  {
   "cell_type": "code",
   "execution_count": 6,
   "metadata": {},
   "outputs": [
    {
     "data": {
      "text/html": [
       "<div>\n",
       "<style scoped>\n",
       "    .dataframe tbody tr th:only-of-type {\n",
       "        vertical-align: middle;\n",
       "    }\n",
       "\n",
       "    .dataframe tbody tr th {\n",
       "        vertical-align: top;\n",
       "    }\n",
       "\n",
       "    .dataframe thead th {\n",
       "        text-align: right;\n",
       "    }\n",
       "</style>\n",
       "<table border=\"1\" class=\"dataframe\">\n",
       "  <thead>\n",
       "    <tr style=\"text-align: right;\">\n",
       "      <th></th>\n",
       "      <th>original_title</th>\n",
       "      <th>popularity</th>\n",
       "      <th>vote_average</th>\n",
       "      <th>release_date</th>\n",
       "    </tr>\n",
       "  </thead>\n",
       "  <tbody>\n",
       "    <tr>\n",
       "      <th>0</th>\n",
       "      <td>Harry Potter and the Deathly Hallows: Part 1</td>\n",
       "      <td>33.533</td>\n",
       "      <td>7.7</td>\n",
       "      <td>2010-11-19</td>\n",
       "    </tr>\n",
       "    <tr>\n",
       "      <th>1</th>\n",
       "      <td>How to Train Your Dragon</td>\n",
       "      <td>28.734</td>\n",
       "      <td>7.7</td>\n",
       "      <td>2010-03-26</td>\n",
       "    </tr>\n",
       "    <tr>\n",
       "      <th>2</th>\n",
       "      <td>Iron Man 2</td>\n",
       "      <td>28.515</td>\n",
       "      <td>6.8</td>\n",
       "      <td>2010-05-07</td>\n",
       "    </tr>\n",
       "    <tr>\n",
       "      <th>4</th>\n",
       "      <td>Inception</td>\n",
       "      <td>27.920</td>\n",
       "      <td>8.3</td>\n",
       "      <td>2010-07-16</td>\n",
       "    </tr>\n",
       "    <tr>\n",
       "      <th>5</th>\n",
       "      <td>Percy Jackson &amp; the Olympians: The Lightning T...</td>\n",
       "      <td>26.691</td>\n",
       "      <td>6.1</td>\n",
       "      <td>2010-02-11</td>\n",
       "    </tr>\n",
       "  </tbody>\n",
       "</table>\n",
       "</div>"
      ],
      "text/plain": [
       "                                      original_title  popularity  \\\n",
       "0       Harry Potter and the Deathly Hallows: Part 1      33.533   \n",
       "1                           How to Train Your Dragon      28.734   \n",
       "2                                         Iron Man 2      28.515   \n",
       "4                                          Inception      27.920   \n",
       "5  Percy Jackson & the Olympians: The Lightning T...      26.691   \n",
       "\n",
       "   vote_average release_date  \n",
       "0           7.7   2010-11-19  \n",
       "1           7.7   2010-03-26  \n",
       "2           6.8   2010-05-07  \n",
       "4           8.3   2010-07-16  \n",
       "5           6.1   2010-02-11  "
      ]
     },
     "execution_count": 6,
     "metadata": {},
     "output_type": "execute_result"
    }
   ],
   "source": [
    "#filter the tmdb movies with vote count above 190 and release date after 2010\n",
    "filtered_tmdb_movies = tmdb_movies.loc[(tmdb_movies['vote_count'] > 190) & \n",
    "                                       (tmdb_movies['release_date'] > '2010-01-01'), \n",
    "                                       ['original_title','popularity','vote_average','release_date']]\n",
    "filtered_tmdb_movies.head()"
   ]
  },
  {
   "cell_type": "markdown",
   "metadata": {},
   "source": [
    "### Removed Duplicates from Dataset"
   ]
  },
  {
   "cell_type": "code",
   "execution_count": 7,
   "metadata": {},
   "outputs": [
    {
     "name": "stdout",
     "output_type": "stream",
     "text": [
      "Number of Duplicates: 241\n"
     ]
    }
   ],
   "source": [
    "#Find the total number of duplicates based on title\n",
    "print('Number of Duplicates:', filtered_tmdb_movies['original_title'].duplicated().sum())"
   ]
  },
  {
   "cell_type": "code",
   "execution_count": 8,
   "metadata": {},
   "outputs": [
    {
     "name": "stdout",
     "output_type": "stream",
     "text": [
      "Duplicates Remaining: 0\n"
     ]
    }
   ],
   "source": [
    "#Drop duplicates\n",
    "filtered_tmdb_movies.drop_duplicates(inplace=True)\n",
    "\n",
    "#Check duplicates were dropped\n",
    "print('Duplicates Remaining:', filtered_tmdb_movies.duplicated().sum())"
   ]
  },
  {
   "cell_type": "markdown",
   "metadata": {},
   "source": [
    "### Descriptive Statistics for Popularity & Vote Average"
   ]
  },
  {
   "cell_type": "code",
   "execution_count": 9,
   "metadata": {},
   "outputs": [
    {
     "data": {
      "text/html": [
       "<div>\n",
       "<style scoped>\n",
       "    .dataframe tbody tr th:only-of-type {\n",
       "        vertical-align: middle;\n",
       "    }\n",
       "\n",
       "    .dataframe tbody tr th {\n",
       "        vertical-align: top;\n",
       "    }\n",
       "\n",
       "    .dataframe thead th {\n",
       "        text-align: right;\n",
       "    }\n",
       "</style>\n",
       "<table border=\"1\" class=\"dataframe\">\n",
       "  <thead>\n",
       "    <tr style=\"text-align: right;\">\n",
       "      <th></th>\n",
       "      <th>popularity</th>\n",
       "      <th>vote_average</th>\n",
       "    </tr>\n",
       "  </thead>\n",
       "  <tbody>\n",
       "    <tr>\n",
       "      <th>count</th>\n",
       "      <td>2412.000000</td>\n",
       "      <td>2412.000000</td>\n",
       "    </tr>\n",
       "    <tr>\n",
       "      <th>mean</th>\n",
       "      <td>12.376893</td>\n",
       "      <td>6.404643</td>\n",
       "    </tr>\n",
       "    <tr>\n",
       "      <th>std</th>\n",
       "      <td>6.722986</td>\n",
       "      <td>0.818312</td>\n",
       "    </tr>\n",
       "    <tr>\n",
       "      <th>min</th>\n",
       "      <td>0.600000</td>\n",
       "      <td>3.700000</td>\n",
       "    </tr>\n",
       "    <tr>\n",
       "      <th>25%</th>\n",
       "      <td>8.236500</td>\n",
       "      <td>5.900000</td>\n",
       "    </tr>\n",
       "    <tr>\n",
       "      <th>50%</th>\n",
       "      <td>10.322000</td>\n",
       "      <td>6.400000</td>\n",
       "    </tr>\n",
       "    <tr>\n",
       "      <th>75%</th>\n",
       "      <td>14.377250</td>\n",
       "      <td>7.000000</td>\n",
       "    </tr>\n",
       "    <tr>\n",
       "      <th>max</th>\n",
       "      <td>80.773000</td>\n",
       "      <td>8.600000</td>\n",
       "    </tr>\n",
       "  </tbody>\n",
       "</table>\n",
       "</div>"
      ],
      "text/plain": [
       "        popularity  vote_average\n",
       "count  2412.000000   2412.000000\n",
       "mean     12.376893      6.404643\n",
       "std       6.722986      0.818312\n",
       "min       0.600000      3.700000\n",
       "25%       8.236500      5.900000\n",
       "50%      10.322000      6.400000\n",
       "75%      14.377250      7.000000\n",
       "max      80.773000      8.600000"
      ]
     },
     "execution_count": 9,
     "metadata": {},
     "output_type": "execute_result"
    }
   ],
   "source": [
    "filtered_tmdb_movies.describe()"
   ]
  },
  {
   "cell_type": "markdown",
   "metadata": {},
   "source": [
    "### Top 10 Most Popular Movies 2010 - 2020"
   ]
  },
  {
   "cell_type": "markdown",
   "metadata": {},
   "source": [
    "At a quick glance between the top 10 Popular Movies and top 10 Highly Rated Movies, not all of the movies are the same. We can assume that Popularity and Highly Rated will not have a strong positive correlation."
   ]
  },
  {
   "cell_type": "code",
   "execution_count": 10,
   "metadata": {
    "scrolled": true
   },
   "outputs": [
    {
     "data": {
      "text/html": [
       "<div>\n",
       "<style scoped>\n",
       "    .dataframe tbody tr th:only-of-type {\n",
       "        vertical-align: middle;\n",
       "    }\n",
       "\n",
       "    .dataframe tbody tr th {\n",
       "        vertical-align: top;\n",
       "    }\n",
       "\n",
       "    .dataframe thead th {\n",
       "        text-align: right;\n",
       "    }\n",
       "</style>\n",
       "<table border=\"1\" class=\"dataframe\">\n",
       "  <thead>\n",
       "    <tr style=\"text-align: right;\">\n",
       "      <th></th>\n",
       "      <th>original_title</th>\n",
       "      <th>popularity</th>\n",
       "    </tr>\n",
       "  </thead>\n",
       "  <tbody>\n",
       "    <tr>\n",
       "      <th>23811</th>\n",
       "      <td>Avengers: Infinity War</td>\n",
       "      <td>80.773</td>\n",
       "    </tr>\n",
       "    <tr>\n",
       "      <th>11019</th>\n",
       "      <td>John Wick</td>\n",
       "      <td>78.123</td>\n",
       "    </tr>\n",
       "    <tr>\n",
       "      <th>23812</th>\n",
       "      <td>Spider-Man: Into the Spider-Verse</td>\n",
       "      <td>60.534</td>\n",
       "    </tr>\n",
       "    <tr>\n",
       "      <th>11020</th>\n",
       "      <td>The Hobbit: The Battle of the Five Armies</td>\n",
       "      <td>53.783</td>\n",
       "    </tr>\n",
       "    <tr>\n",
       "      <th>5179</th>\n",
       "      <td>The Avengers</td>\n",
       "      <td>50.289</td>\n",
       "    </tr>\n",
       "    <tr>\n",
       "      <th>11021</th>\n",
       "      <td>Guardians of the Galaxy</td>\n",
       "      <td>49.606</td>\n",
       "    </tr>\n",
       "    <tr>\n",
       "      <th>20617</th>\n",
       "      <td>Blade Runner 2049</td>\n",
       "      <td>48.571</td>\n",
       "    </tr>\n",
       "    <tr>\n",
       "      <th>23814</th>\n",
       "      <td>Fantastic Beasts: The Crimes of Grindelwald</td>\n",
       "      <td>48.508</td>\n",
       "    </tr>\n",
       "    <tr>\n",
       "      <th>23815</th>\n",
       "      <td>Ralph Breaks the Internet</td>\n",
       "      <td>48.057</td>\n",
       "    </tr>\n",
       "    <tr>\n",
       "      <th>20618</th>\n",
       "      <td>Spider-Man: Homecoming</td>\n",
       "      <td>46.775</td>\n",
       "    </tr>\n",
       "  </tbody>\n",
       "</table>\n",
       "</div>"
      ],
      "text/plain": [
       "                                    original_title  popularity\n",
       "23811                       Avengers: Infinity War      80.773\n",
       "11019                                    John Wick      78.123\n",
       "23812            Spider-Man: Into the Spider-Verse      60.534\n",
       "11020    The Hobbit: The Battle of the Five Armies      53.783\n",
       "5179                                  The Avengers      50.289\n",
       "11021                      Guardians of the Galaxy      49.606\n",
       "20617                            Blade Runner 2049      48.571\n",
       "23814  Fantastic Beasts: The Crimes of Grindelwald      48.508\n",
       "23815                    Ralph Breaks the Internet      48.057\n",
       "20618                       Spider-Man: Homecoming      46.775"
      ]
     },
     "metadata": {},
     "output_type": "display_data"
    }
   ],
   "source": [
    "top_10_popularity = filtered_tmdb_movies.loc[:,['original_title'\n",
    "                                                ,'popularity']].sort_values(by='popularity',\n",
    "                                                                            ascending=False).head(10)\n",
    "display(top_10_popularity)"
   ]
  },
  {
   "cell_type": "markdown",
   "metadata": {},
   "source": [
    "### Merged the Top 10 Popularity to get the Genres from IMDB Title Basics"
   ]
  },
  {
   "cell_type": "code",
   "execution_count": 11,
   "metadata": {},
   "outputs": [
    {
     "data": {
      "text/html": [
       "<div>\n",
       "<style scoped>\n",
       "    .dataframe tbody tr th:only-of-type {\n",
       "        vertical-align: middle;\n",
       "    }\n",
       "\n",
       "    .dataframe tbody tr th {\n",
       "        vertical-align: top;\n",
       "    }\n",
       "\n",
       "    .dataframe thead th {\n",
       "        text-align: right;\n",
       "    }\n",
       "</style>\n",
       "<table border=\"1\" class=\"dataframe\">\n",
       "  <thead>\n",
       "    <tr style=\"text-align: right;\">\n",
       "      <th></th>\n",
       "      <th>original_title</th>\n",
       "      <th>popularity</th>\n",
       "      <th>tconst</th>\n",
       "      <th>primary_title</th>\n",
       "      <th>start_year</th>\n",
       "      <th>runtime_minutes</th>\n",
       "      <th>genres</th>\n",
       "    </tr>\n",
       "  </thead>\n",
       "  <tbody>\n",
       "    <tr>\n",
       "      <th>0</th>\n",
       "      <td>Avengers: Infinity War</td>\n",
       "      <td>80.773</td>\n",
       "      <td>tt4154756</td>\n",
       "      <td>Avengers: Infinity War</td>\n",
       "      <td>2018</td>\n",
       "      <td>149.0</td>\n",
       "      <td>Action,Adventure,Sci-Fi</td>\n",
       "    </tr>\n",
       "    <tr>\n",
       "      <th>1</th>\n",
       "      <td>John Wick</td>\n",
       "      <td>78.123</td>\n",
       "      <td>tt2911666</td>\n",
       "      <td>John Wick</td>\n",
       "      <td>2014</td>\n",
       "      <td>101.0</td>\n",
       "      <td>Action,Crime,Thriller</td>\n",
       "    </tr>\n",
       "    <tr>\n",
       "      <th>2</th>\n",
       "      <td>Spider-Man: Into the Spider-Verse</td>\n",
       "      <td>60.534</td>\n",
       "      <td>tt4633694</td>\n",
       "      <td>Spider-Man: Into the Spider-Verse</td>\n",
       "      <td>2018</td>\n",
       "      <td>117.0</td>\n",
       "      <td>Action,Adventure,Animation</td>\n",
       "    </tr>\n",
       "    <tr>\n",
       "      <th>3</th>\n",
       "      <td>The Hobbit: The Battle of the Five Armies</td>\n",
       "      <td>53.783</td>\n",
       "      <td>tt2310332</td>\n",
       "      <td>The Hobbit: The Battle of the Five Armies</td>\n",
       "      <td>2014</td>\n",
       "      <td>144.0</td>\n",
       "      <td>Adventure,Fantasy</td>\n",
       "    </tr>\n",
       "    <tr>\n",
       "      <th>4</th>\n",
       "      <td>The Avengers</td>\n",
       "      <td>50.289</td>\n",
       "      <td>tt0848228</td>\n",
       "      <td>The Avengers</td>\n",
       "      <td>2012</td>\n",
       "      <td>143.0</td>\n",
       "      <td>Action,Adventure,Sci-Fi</td>\n",
       "    </tr>\n",
       "    <tr>\n",
       "      <th>5</th>\n",
       "      <td>Guardians of the Galaxy</td>\n",
       "      <td>49.606</td>\n",
       "      <td>tt2015381</td>\n",
       "      <td>Guardians of the Galaxy</td>\n",
       "      <td>2014</td>\n",
       "      <td>121.0</td>\n",
       "      <td>Action,Adventure,Comedy</td>\n",
       "    </tr>\n",
       "    <tr>\n",
       "      <th>6</th>\n",
       "      <td>Blade Runner 2049</td>\n",
       "      <td>48.571</td>\n",
       "      <td>tt1856101</td>\n",
       "      <td>Blade Runner 2049</td>\n",
       "      <td>2017</td>\n",
       "      <td>164.0</td>\n",
       "      <td>Drama,Mystery,Sci-Fi</td>\n",
       "    </tr>\n",
       "    <tr>\n",
       "      <th>7</th>\n",
       "      <td>Fantastic Beasts: The Crimes of Grindelwald</td>\n",
       "      <td>48.508</td>\n",
       "      <td>tt4123430</td>\n",
       "      <td>Fantastic Beasts: The Crimes of Grindelwald</td>\n",
       "      <td>2018</td>\n",
       "      <td>134.0</td>\n",
       "      <td>Adventure,Family,Fantasy</td>\n",
       "    </tr>\n",
       "    <tr>\n",
       "      <th>8</th>\n",
       "      <td>Ralph Breaks the Internet</td>\n",
       "      <td>48.057</td>\n",
       "      <td>tt5848272</td>\n",
       "      <td>Ralph Breaks the Internet</td>\n",
       "      <td>2018</td>\n",
       "      <td>112.0</td>\n",
       "      <td>Adventure,Animation,Comedy</td>\n",
       "    </tr>\n",
       "    <tr>\n",
       "      <th>9</th>\n",
       "      <td>Spider-Man: Homecoming</td>\n",
       "      <td>46.775</td>\n",
       "      <td>tt2250912</td>\n",
       "      <td>Spider-Man: Homecoming</td>\n",
       "      <td>2017</td>\n",
       "      <td>133.0</td>\n",
       "      <td>Action,Adventure,Sci-Fi</td>\n",
       "    </tr>\n",
       "  </tbody>\n",
       "</table>\n",
       "</div>"
      ],
      "text/plain": [
       "                                original_title  popularity     tconst  \\\n",
       "0                       Avengers: Infinity War      80.773  tt4154756   \n",
       "1                                    John Wick      78.123  tt2911666   \n",
       "2            Spider-Man: Into the Spider-Verse      60.534  tt4633694   \n",
       "3    The Hobbit: The Battle of the Five Armies      53.783  tt2310332   \n",
       "4                                 The Avengers      50.289  tt0848228   \n",
       "5                      Guardians of the Galaxy      49.606  tt2015381   \n",
       "6                            Blade Runner 2049      48.571  tt1856101   \n",
       "7  Fantastic Beasts: The Crimes of Grindelwald      48.508  tt4123430   \n",
       "8                    Ralph Breaks the Internet      48.057  tt5848272   \n",
       "9                       Spider-Man: Homecoming      46.775  tt2250912   \n",
       "\n",
       "                                 primary_title  start_year  runtime_minutes  \\\n",
       "0                       Avengers: Infinity War        2018            149.0   \n",
       "1                                    John Wick        2014            101.0   \n",
       "2            Spider-Man: Into the Spider-Verse        2018            117.0   \n",
       "3    The Hobbit: The Battle of the Five Armies        2014            144.0   \n",
       "4                                 The Avengers        2012            143.0   \n",
       "5                      Guardians of the Galaxy        2014            121.0   \n",
       "6                            Blade Runner 2049        2017            164.0   \n",
       "7  Fantastic Beasts: The Crimes of Grindelwald        2018            134.0   \n",
       "8                    Ralph Breaks the Internet        2018            112.0   \n",
       "9                       Spider-Man: Homecoming        2017            133.0   \n",
       "\n",
       "                       genres  \n",
       "0     Action,Adventure,Sci-Fi  \n",
       "1       Action,Crime,Thriller  \n",
       "2  Action,Adventure,Animation  \n",
       "3           Adventure,Fantasy  \n",
       "4     Action,Adventure,Sci-Fi  \n",
       "5     Action,Adventure,Comedy  \n",
       "6        Drama,Mystery,Sci-Fi  \n",
       "7    Adventure,Family,Fantasy  \n",
       "8  Adventure,Animation,Comedy  \n",
       "9     Action,Adventure,Sci-Fi  "
      ]
     },
     "execution_count": 11,
     "metadata": {},
     "output_type": "execute_result"
    }
   ],
   "source": [
    "imdb_title_basics = pd.read_csv('zippedData/imdb.title.basics.csv.gz', \n",
    "                                compression='gzip', \n",
    "                                header=0, \n",
    "                                sep=',', \n",
    "                                quotechar='\"', \n",
    "                                error_bad_lines=False)\n",
    "\n",
    "top_10_popularity_genre = pd.merge(top_10_popularity, imdb_title_basics, \n",
    "                how='inner', right_on=['original_title'], left_on=['original_title'])\n",
    "top_10_popularity_genre"
   ]
  },
  {
   "cell_type": "code",
   "execution_count": 12,
   "metadata": {},
   "outputs": [
    {
     "data": {
      "text/plain": [
       "Text(0.5, 0, 'Gross Profit (In Billions) Based on Highest Popular Movies')"
      ]
     },
     "execution_count": 12,
     "metadata": {},
     "output_type": "execute_result"
    },
    {
     "data": {
      "image/png": "[encoded data removed]",
      "text/plain": [
       "<Figure size 1080x432 with 1 Axes>"
      ]
     },
     "metadata": {
      "needs_background": "light"
     },
     "output_type": "display_data"
    }
   ],
   "source": [
    "plt.figure(figsize=(15,6))\n",
    "plt.barh(top_10_popularity['original_title'],top_10_popularity['popularity'],color='lightblue')\n",
    "\n",
    "plt.title('Top 10 Movies with the Highest Popularity (2010-2020)',fontsize=20)\n",
    "plt.xlabel('Gross Profit (In Billions) Based on Highest Popular Movies')"
   ]
  },
  {
   "cell_type": "markdown",
   "metadata": {},
   "source": [
    "### Top 10 Most Highly Rated Movies 2010 - 2020"
   ]
  },
  {
   "cell_type": "code",
   "execution_count": 13,
   "metadata": {},
   "outputs": [
    {
     "data": {
      "text/html": [
       "<div>\n",
       "<style scoped>\n",
       "    .dataframe tbody tr th:only-of-type {\n",
       "        vertical-align: middle;\n",
       "    }\n",
       "\n",
       "    .dataframe tbody tr th {\n",
       "        vertical-align: top;\n",
       "    }\n",
       "\n",
       "    .dataframe thead th {\n",
       "        text-align: right;\n",
       "    }\n",
       "</style>\n",
       "<table border=\"1\" class=\"dataframe\">\n",
       "  <thead>\n",
       "    <tr style=\"text-align: right;\">\n",
       "      <th></th>\n",
       "      <th>original_title</th>\n",
       "      <th>vote_average</th>\n",
       "    </tr>\n",
       "  </thead>\n",
       "  <tbody>\n",
       "    <tr>\n",
       "      <th>17389</th>\n",
       "      <td>君の名は。</td>\n",
       "      <td>8.6</td>\n",
       "    </tr>\n",
       "    <tr>\n",
       "      <th>11031</th>\n",
       "      <td>Whiplash</td>\n",
       "      <td>8.4</td>\n",
       "    </tr>\n",
       "    <tr>\n",
       "      <th>23899</th>\n",
       "      <td>کفرناحوم</td>\n",
       "      <td>8.4</td>\n",
       "    </tr>\n",
       "    <tr>\n",
       "      <th>23812</th>\n",
       "      <td>Spider-Man: Into the Spider-Verse</td>\n",
       "      <td>8.4</td>\n",
       "    </tr>\n",
       "    <tr>\n",
       "      <th>21008</th>\n",
       "      <td>In a Heartbeat</td>\n",
       "      <td>8.3</td>\n",
       "    </tr>\n",
       "    <tr>\n",
       "      <th>23827</th>\n",
       "      <td>Green Book</td>\n",
       "      <td>8.3</td>\n",
       "    </tr>\n",
       "    <tr>\n",
       "      <th>24056</th>\n",
       "      <td>Won't You Be My Neighbor?</td>\n",
       "      <td>8.3</td>\n",
       "    </tr>\n",
       "    <tr>\n",
       "      <th>17466</th>\n",
       "      <td>아가씨</td>\n",
       "      <td>8.3</td>\n",
       "    </tr>\n",
       "    <tr>\n",
       "      <th>11142</th>\n",
       "      <td>Mommy</td>\n",
       "      <td>8.3</td>\n",
       "    </tr>\n",
       "    <tr>\n",
       "      <th>23811</th>\n",
       "      <td>Avengers: Infinity War</td>\n",
       "      <td>8.3</td>\n",
       "    </tr>\n",
       "  </tbody>\n",
       "</table>\n",
       "</div>"
      ],
      "text/plain": [
       "                          original_title  vote_average\n",
       "17389                              君の名は。           8.6\n",
       "11031                           Whiplash           8.4\n",
       "23899                           کفرناحوم           8.4\n",
       "23812  Spider-Man: Into the Spider-Verse           8.4\n",
       "21008                     In a Heartbeat           8.3\n",
       "23827                         Green Book           8.3\n",
       "24056          Won't You Be My Neighbor?           8.3\n",
       "17466                                아가씨           8.3\n",
       "11142                              Mommy           8.3\n",
       "23811             Avengers: Infinity War           8.3"
      ]
     },
     "metadata": {},
     "output_type": "display_data"
    }
   ],
   "source": [
    "top_10_vote_average = filtered_tmdb_movies.loc[:,['original_title',\n",
    "                                                  'vote_average']].sort_values(by='vote_average',\n",
    "                                                                               ascending=False).head(10)\n",
    "display(top_10_vote_average)"
   ]
  },
  {
   "cell_type": "markdown",
   "metadata": {},
   "source": [
    "### Merged the Top 10 Highest Rated to get the Genres from IMDB Title Basics"
   ]
  },
  {
   "cell_type": "code",
   "execution_count": 14,
   "metadata": {},
   "outputs": [
    {
     "data": {
      "text/html": [
       "<div>\n",
       "<style scoped>\n",
       "    .dataframe tbody tr th:only-of-type {\n",
       "        vertical-align: middle;\n",
       "    }\n",
       "\n",
       "    .dataframe tbody tr th {\n",
       "        vertical-align: top;\n",
       "    }\n",
       "\n",
       "    .dataframe thead th {\n",
       "        text-align: right;\n",
       "    }\n",
       "</style>\n",
       "<table border=\"1\" class=\"dataframe\">\n",
       "  <thead>\n",
       "    <tr style=\"text-align: right;\">\n",
       "      <th></th>\n",
       "      <th>original_title</th>\n",
       "      <th>vote_average</th>\n",
       "      <th>tconst</th>\n",
       "      <th>primary_title</th>\n",
       "      <th>start_year</th>\n",
       "      <th>runtime_minutes</th>\n",
       "      <th>genres</th>\n",
       "    </tr>\n",
       "  </thead>\n",
       "  <tbody>\n",
       "    <tr>\n",
       "      <th>0</th>\n",
       "      <td>Whiplash</td>\n",
       "      <td>8.4</td>\n",
       "      <td>tt2582802</td>\n",
       "      <td>Whiplash</td>\n",
       "      <td>2014</td>\n",
       "      <td>106.0</td>\n",
       "      <td>Drama,Music</td>\n",
       "    </tr>\n",
       "    <tr>\n",
       "      <th>1</th>\n",
       "      <td>Spider-Man: Into the Spider-Verse</td>\n",
       "      <td>8.4</td>\n",
       "      <td>tt4633694</td>\n",
       "      <td>Spider-Man: Into the Spider-Verse</td>\n",
       "      <td>2018</td>\n",
       "      <td>117.0</td>\n",
       "      <td>Action,Adventure,Animation</td>\n",
       "    </tr>\n",
       "    <tr>\n",
       "      <th>2</th>\n",
       "      <td>In a Heartbeat</td>\n",
       "      <td>8.3</td>\n",
       "      <td>tt2622988</td>\n",
       "      <td>In a Heartbeat</td>\n",
       "      <td>2014</td>\n",
       "      <td>106.0</td>\n",
       "      <td>Horror,Mystery,Romance</td>\n",
       "    </tr>\n",
       "    <tr>\n",
       "      <th>3</th>\n",
       "      <td>Green Book</td>\n",
       "      <td>8.3</td>\n",
       "      <td>tt6966692</td>\n",
       "      <td>Green Book</td>\n",
       "      <td>2018</td>\n",
       "      <td>130.0</td>\n",
       "      <td>Biography,Comedy,Drama</td>\n",
       "    </tr>\n",
       "    <tr>\n",
       "      <th>4</th>\n",
       "      <td>Won't You Be My Neighbor?</td>\n",
       "      <td>8.3</td>\n",
       "      <td>tt7681902</td>\n",
       "      <td>Won't You Be My Neighbor?</td>\n",
       "      <td>2018</td>\n",
       "      <td>94.0</td>\n",
       "      <td>Biography,Documentary</td>\n",
       "    </tr>\n",
       "    <tr>\n",
       "      <th>5</th>\n",
       "      <td>Mommy</td>\n",
       "      <td>8.3</td>\n",
       "      <td>tt3612616</td>\n",
       "      <td>Mommy</td>\n",
       "      <td>2014</td>\n",
       "      <td>139.0</td>\n",
       "      <td>Drama</td>\n",
       "    </tr>\n",
       "    <tr>\n",
       "      <th>6</th>\n",
       "      <td>Mommy</td>\n",
       "      <td>8.3</td>\n",
       "      <td>tt5152894</td>\n",
       "      <td>Mommy</td>\n",
       "      <td>2015</td>\n",
       "      <td>135.0</td>\n",
       "      <td>Drama</td>\n",
       "    </tr>\n",
       "    <tr>\n",
       "      <th>7</th>\n",
       "      <td>Avengers: Infinity War</td>\n",
       "      <td>8.3</td>\n",
       "      <td>tt4154756</td>\n",
       "      <td>Avengers: Infinity War</td>\n",
       "      <td>2018</td>\n",
       "      <td>149.0</td>\n",
       "      <td>Action,Adventure,Sci-Fi</td>\n",
       "    </tr>\n",
       "  </tbody>\n",
       "</table>\n",
       "</div>"
      ],
      "text/plain": [
       "                      original_title  vote_average     tconst  \\\n",
       "0                           Whiplash           8.4  tt2582802   \n",
       "1  Spider-Man: Into the Spider-Verse           8.4  tt4633694   \n",
       "2                     In a Heartbeat           8.3  tt2622988   \n",
       "3                         Green Book           8.3  tt6966692   \n",
       "4          Won't You Be My Neighbor?           8.3  tt7681902   \n",
       "5                              Mommy           8.3  tt3612616   \n",
       "6                              Mommy           8.3  tt5152894   \n",
       "7             Avengers: Infinity War           8.3  tt4154756   \n",
       "\n",
       "                       primary_title  start_year  runtime_minutes  \\\n",
       "0                           Whiplash        2014            106.0   \n",
       "1  Spider-Man: Into the Spider-Verse        2018            117.0   \n",
       "2                     In a Heartbeat        2014            106.0   \n",
       "3                         Green Book        2018            130.0   \n",
       "4          Won't You Be My Neighbor?        2018             94.0   \n",
       "5                              Mommy        2014            139.0   \n",
       "6                              Mommy        2015            135.0   \n",
       "7             Avengers: Infinity War        2018            149.0   \n",
       "\n",
       "                       genres  \n",
       "0                 Drama,Music  \n",
       "1  Action,Adventure,Animation  \n",
       "2      Horror,Mystery,Romance  \n",
       "3      Biography,Comedy,Drama  \n",
       "4       Biography,Documentary  \n",
       "5                       Drama  \n",
       "6                       Drama  \n",
       "7     Action,Adventure,Sci-Fi  "
      ]
     },
     "execution_count": 14,
     "metadata": {},
     "output_type": "execute_result"
    }
   ],
   "source": [
    "imdb_title_basics = pd.read_csv('zippedData/imdb.title.basics.csv.gz', \n",
    "                                compression='gzip', \n",
    "                                header=0, \n",
    "                                sep=',', \n",
    "                                quotechar='\"', \n",
    "                                error_bad_lines=False)\n",
    "\n",
    "top_10_voteaverage_genre = pd.merge(top_10_vote_average, imdb_title_basics, \n",
    "                how='inner', right_on=['original_title'], left_on=['original_title'])\n",
    "top_10_voteaverage_genre"
   ]
  },
  {
   "cell_type": "code",
   "execution_count": 38,
   "metadata": {},
   "outputs": [
    {
     "data": {
      "text/plain": [
       "Text(0.5, 0, 'Gross Profit (In Billions)')"
      ]
     },
     "execution_count": 38,
     "metadata": {},
     "output_type": "execute_result"
    },
    {
     "name": "stderr",
     "output_type": "stream",
     "text": [
      "C:\\Users\\edwar\\anaconda3\\lib\\site-packages\\matplotlib\\backends\\backend_agg.py:211: RuntimeWarning: Glyph 21531 missing from current font.\n",
      "  font.set_text(s, 0.0, flags=flags)\n",
      "C:\\Users\\edwar\\anaconda3\\lib\\site-packages\\matplotlib\\backends\\backend_agg.py:211: RuntimeWarning: Glyph 12398 missing from current font.\n",
      "  font.set_text(s, 0.0, flags=flags)\n",
      "C:\\Users\\edwar\\anaconda3\\lib\\site-packages\\matplotlib\\backends\\backend_agg.py:211: RuntimeWarning: Glyph 21517 missing from current font.\n",
      "  font.set_text(s, 0.0, flags=flags)\n",
      "C:\\Users\\edwar\\anaconda3\\lib\\site-packages\\matplotlib\\backends\\backend_agg.py:211: RuntimeWarning: Glyph 12399 missing from current font.\n",
      "  font.set_text(s, 0.0, flags=flags)\n",
      "C:\\Users\\edwar\\anaconda3\\lib\\site-packages\\matplotlib\\backends\\backend_agg.py:211: RuntimeWarning: Glyph 12290 missing from current font.\n",
      "  font.set_text(s, 0.0, flags=flags)\n",
      "C:\\Users\\edwar\\anaconda3\\lib\\site-packages\\matplotlib\\backends\\backend_agg.py:211: RuntimeWarning: Glyph 50500 missing from current font.\n",
      "  font.set_text(s, 0.0, flags=flags)\n",
      "C:\\Users\\edwar\\anaconda3\\lib\\site-packages\\matplotlib\\backends\\backend_agg.py:211: RuntimeWarning: Glyph 44032 missing from current font.\n",
      "  font.set_text(s, 0.0, flags=flags)\n",
      "C:\\Users\\edwar\\anaconda3\\lib\\site-packages\\matplotlib\\backends\\backend_agg.py:211: RuntimeWarning: Glyph 50472 missing from current font.\n",
      "  font.set_text(s, 0.0, flags=flags)\n",
      "C:\\Users\\edwar\\anaconda3\\lib\\site-packages\\matplotlib\\backends\\backend_agg.py:180: RuntimeWarning: Glyph 21531 missing from current font.\n",
      "  font.set_text(s, 0, flags=flags)\n",
      "C:\\Users\\edwar\\anaconda3\\lib\\site-packages\\matplotlib\\backends\\backend_agg.py:180: RuntimeWarning: Glyph 12398 missing from current font.\n",
      "  font.set_text(s, 0, flags=flags)\n",
      "C:\\Users\\edwar\\anaconda3\\lib\\site-packages\\matplotlib\\backends\\backend_agg.py:180: RuntimeWarning: Glyph 21517 missing from current font.\n",
      "  font.set_text(s, 0, flags=flags)\n",
      "C:\\Users\\edwar\\anaconda3\\lib\\site-packages\\matplotlib\\backends\\backend_agg.py:180: RuntimeWarning: Glyph 12399 missing from current font.\n",
      "  font.set_text(s, 0, flags=flags)\n",
      "C:\\Users\\edwar\\anaconda3\\lib\\site-packages\\matplotlib\\backends\\backend_agg.py:180: RuntimeWarning: Glyph 12290 missing from current font.\n",
      "  font.set_text(s, 0, flags=flags)\n",
      "C:\\Users\\edwar\\anaconda3\\lib\\site-packages\\matplotlib\\backends\\backend_agg.py:180: RuntimeWarning: Glyph 50500 missing from current font.\n",
      "  font.set_text(s, 0, flags=flags)\n",
      "C:\\Users\\edwar\\anaconda3\\lib\\site-packages\\matplotlib\\backends\\backend_agg.py:180: RuntimeWarning: Glyph 44032 missing from current font.\n",
      "  font.set_text(s, 0, flags=flags)\n",
      "C:\\Users\\edwar\\anaconda3\\lib\\site-packages\\matplotlib\\backends\\backend_agg.py:180: RuntimeWarning: Glyph 50472 missing from current font.\n",
      "  font.set_text(s, 0, flags=flags)\n"
     ]
    },
    {
     "data": {
      "image/png": "[encoded data removed]",
      "text/plain": [
       "<Figure size 1080x432 with 1 Axes>"
      ]
     },
     "metadata": {},
     "output_type": "display_data"
    }
   ],
   "source": [
    "plt.figure(figsize=(15,6))\n",
    "plt.barh(top_10_vote_average['original_title'],top_10_vote_average['vote_average'],color='red')\n",
    "\n",
    "plt.title('Top 10 Movies with the Highest Vote Average (2010-2020)',fontsize=20)\n",
    "plt.xlabel('Gross Profit (In Billions) Based on Highest Average Voted Movies')"
   ]
  },
  {
   "cell_type": "code",
   "execution_count": 16,
   "metadata": {
    "scrolled": true
   },
   "outputs": [],
   "source": [
    "## Subplots for Most Popular and Highly Rated Movies 2010-2020\n",
    "\n",
    "# new_figure = plt.figure(figsize=(20,6))\n",
    "\n",
    "# ax = new_figure.add_subplot(121)\n",
    "# ax2 = new_figure.add_subplot(122)\n",
    "\n",
    "# ax.barh(top_10_popularity['original_title'],top_10_popularity['popularity'] , color='lightblue')\n",
    "# ax2.barh(top_10_vote_average['original_title'],top_10_vote_average['vote_average'], color='red')\n",
    "\n",
    "# ax.set_xlim(0,100)\n",
    "# ax.set_xlabel('Popularity',fontsize=15)\n",
    "# ax.set_title('Top 10 Popular Movies (2010-2020)',fontsize=20)\n",
    "\n",
    "\n",
    "# ax2.set_xlim(0,10)\n",
    "# ax2.set_xlabel('Vote Average',fontsize=15)\n",
    "# ax2.set_title('Top 10 Highest Rated Movies (2010-2020)',fontsize=20)\n",
    "\n",
    "# plt.tight_layout()\n",
    "# plt.show()"
   ]
  },
  {
   "cell_type": "code",
   "execution_count": 17,
   "metadata": {},
   "outputs": [
    {
     "data": {
      "image/png": "[encoded data removed]",
      "text/plain": [
       "<Figure size 1080x720 with 1 Axes>"
      ]
     },
     "metadata": {},
     "output_type": "display_data"
    }
   ],
   "source": [
    "sns.set_style({'grid.color':'black',\n",
    "               'axes.facecolor':'white',\n",
    "               'figure.facecolor':'white',\n",
    "               'axes.edgecolor':'black',\n",
    "               'axes.labelcolor':'black',\n",
    "               'xtick.color':'black',\n",
    "               'ytick.color':'black'})\n",
    "plt.figure(figsize=(15,10))\n",
    "sns.regplot(x='popularity',y='vote_average',data=filtered_tmdb_movies)\n",
    "plt.title('Relationship between Vote Average and Popularity for Movies (2010 - 2020)',fontsize=20)\n",
    "plt.xlabel('Popularity',fontsize=15)\n",
    "plt.ylabel('Vote Average',fontsize=15)\n",
    "plt.show()\n"
   ]
  },
  {
   "cell_type": "code",
   "execution_count": 18,
   "metadata": {},
   "outputs": [
    {
     "data": {
      "text/plain": [
       "0.21661176140359314"
      ]
     },
     "execution_count": 18,
     "metadata": {},
     "output_type": "execute_result"
    }
   ],
   "source": [
    "correlation = filtered_tmdb_movies['popularity'].corr(filtered_tmdb_movies['vote_average'])\n",
    "correlation"
   ]
  },
  {
   "cell_type": "markdown",
   "metadata": {},
   "source": [
    "### Q2  - Conclusion"
   ]
  },
  {
   "cell_type": "markdown",
   "metadata": {},
   "source": [
    "Based on the popularity results, majority of the most popular movies are Action and Adventure movies. Action, Adventure movies is the best genre to release. As for the highest rated average results, majority of the highest rated movies are foreign films and Drama genre. If we're looking to create a film in a foreign country, Drama is the best genre to release.\n",
    "\n",
    "When we looked at the correlation between Vote Average and Popularity, there was no correlation (0.22). For example, a popular movie does not necessarily lead to a highly rated movie but it can happen."
   ]
  },
  {
   "cell_type": "markdown",
   "metadata": {},
   "source": [
    "# Q3 - What are the top 10 movies with the highest gross profit margin? Is there a relationship between Popularity and Profit Margin?"
   ]
  },
  {
   "cell_type": "markdown",
   "metadata": {},
   "source": [
    "### Import The Numbers Movie Budget Dataset"
   ]
  },
  {
   "cell_type": "code",
   "execution_count": 19,
   "metadata": {},
   "outputs": [],
   "source": [
    "tn_movie_budgets = pd.read_csv('zippedData/tn.movie_budgets.csv.gz', \n",
    "                               compression='gzip', \n",
    "                               header=0, \n",
    "                               sep=',', \n",
    "                               quotechar='\"', \n",
    "                               error_bad_lines=False)"
   ]
  },
  {
   "cell_type": "markdown",
   "metadata": {},
   "source": [
    "### Cleaning the Data"
   ]
  },
  {
   "cell_type": "code",
   "execution_count": 20,
   "metadata": {},
   "outputs": [],
   "source": [
    "# we needed to convert the object columns (budget and gross) into integer values\n",
    "# cleaned the object columns by removing the $ and , from each column\n",
    "tn_movie_budgets['production_budget'] = tn_movie_budgets['production_budget'].str.replace('$','').str.replace(',','').astype({'production_budget': 'int64'})\n",
    "tn_movie_budgets['domestic_gross'] = tn_movie_budgets['domestic_gross'].str.replace('$','').str.replace(',','').astype({'domestic_gross': 'int64'})\n",
    "tn_movie_budgets['worldwide_gross'] = tn_movie_budgets['worldwide_gross'].str.replace('$','').str.replace(',','').astype({'worldwide_gross': 'int64'})\n"
   ]
  },
  {
   "cell_type": "markdown",
   "metadata": {},
   "source": [
    "### Created New Column to Find the Gross Profit Margin"
   ]
  },
  {
   "cell_type": "code",
   "execution_count": 21,
   "metadata": {
    "scrolled": true
   },
   "outputs": [
    {
     "data": {
      "text/html": [
       "<div>\n",
       "<style scoped>\n",
       "    .dataframe tbody tr th:only-of-type {\n",
       "        vertical-align: middle;\n",
       "    }\n",
       "\n",
       "    .dataframe tbody tr th {\n",
       "        vertical-align: top;\n",
       "    }\n",
       "\n",
       "    .dataframe thead th {\n",
       "        text-align: right;\n",
       "    }\n",
       "</style>\n",
       "<table border=\"1\" class=\"dataframe\">\n",
       "  <thead>\n",
       "    <tr style=\"text-align: right;\">\n",
       "      <th></th>\n",
       "      <th>id</th>\n",
       "      <th>release_date</th>\n",
       "      <th>movie</th>\n",
       "      <th>production_budget</th>\n",
       "      <th>domestic_gross</th>\n",
       "      <th>worldwide_gross</th>\n",
       "      <th>gross_profit</th>\n",
       "    </tr>\n",
       "  </thead>\n",
       "  <tbody>\n",
       "    <tr>\n",
       "      <th>0</th>\n",
       "      <td>1</td>\n",
       "      <td>Dec 18, 2009</td>\n",
       "      <td>Avatar</td>\n",
       "      <td>425000000</td>\n",
       "      <td>760507625</td>\n",
       "      <td>2776345279</td>\n",
       "      <td>2351345279</td>\n",
       "    </tr>\n",
       "    <tr>\n",
       "      <th>1</th>\n",
       "      <td>2</td>\n",
       "      <td>May 20, 2011</td>\n",
       "      <td>Pirates of the Caribbean: On Stranger Tides</td>\n",
       "      <td>410600000</td>\n",
       "      <td>241063875</td>\n",
       "      <td>1045663875</td>\n",
       "      <td>635063875</td>\n",
       "    </tr>\n",
       "    <tr>\n",
       "      <th>2</th>\n",
       "      <td>3</td>\n",
       "      <td>Jun 7, 2019</td>\n",
       "      <td>Dark Phoenix</td>\n",
       "      <td>350000000</td>\n",
       "      <td>42762350</td>\n",
       "      <td>149762350</td>\n",
       "      <td>-200237650</td>\n",
       "    </tr>\n",
       "    <tr>\n",
       "      <th>3</th>\n",
       "      <td>4</td>\n",
       "      <td>May 1, 2015</td>\n",
       "      <td>Avengers: Age of Ultron</td>\n",
       "      <td>330600000</td>\n",
       "      <td>459005868</td>\n",
       "      <td>1403013963</td>\n",
       "      <td>1072413963</td>\n",
       "    </tr>\n",
       "    <tr>\n",
       "      <th>4</th>\n",
       "      <td>5</td>\n",
       "      <td>Dec 15, 2017</td>\n",
       "      <td>Star Wars Ep. VIII: The Last Jedi</td>\n",
       "      <td>317000000</td>\n",
       "      <td>620181382</td>\n",
       "      <td>1316721747</td>\n",
       "      <td>999721747</td>\n",
       "    </tr>\n",
       "  </tbody>\n",
       "</table>\n",
       "</div>"
      ],
      "text/plain": [
       "   id  release_date                                        movie  \\\n",
       "0   1  Dec 18, 2009                                       Avatar   \n",
       "1   2  May 20, 2011  Pirates of the Caribbean: On Stranger Tides   \n",
       "2   3   Jun 7, 2019                                 Dark Phoenix   \n",
       "3   4   May 1, 2015                      Avengers: Age of Ultron   \n",
       "4   5  Dec 15, 2017            Star Wars Ep. VIII: The Last Jedi   \n",
       "\n",
       "   production_budget  domestic_gross  worldwide_gross  gross_profit  \n",
       "0          425000000       760507625       2776345279    2351345279  \n",
       "1          410600000       241063875       1045663875     635063875  \n",
       "2          350000000        42762350        149762350    -200237650  \n",
       "3          330600000       459005868       1403013963    1072413963  \n",
       "4          317000000       620181382       1316721747     999721747  "
      ]
     },
     "execution_count": 21,
     "metadata": {},
     "output_type": "execute_result"
    }
   ],
   "source": [
    "tn_movie_budgets['gross_profit'] = tn_movie_budgets['worldwide_gross'] - tn_movie_budgets['production_budget']\n",
    "tn_movie_budgets.head()"
   ]
  },
  {
   "cell_type": "markdown",
   "metadata": {},
   "source": [
    "### Filtered Data to Release Date After 2010"
   ]
  },
  {
   "cell_type": "code",
   "execution_count": 22,
   "metadata": {},
   "outputs": [],
   "source": [
    "def change(x):\n",
    "    return datetime.datetime.strptime(x,'%b %d %Y').strftime('%Y-%m-%d')"
   ]
  },
  {
   "cell_type": "code",
   "execution_count": 23,
   "metadata": {},
   "outputs": [],
   "source": [
    "tn_movie_budgets['release_date'] = tn_movie_budgets['release_date'].str.replace(',','').apply(change)\n",
    "tn_movie_budgets = tn_movie_budgets.loc[tn_movie_budgets['release_date'] > '2010-01-01'] "
   ]
  },
  {
   "cell_type": "markdown",
   "metadata": {},
   "source": [
    "### Removed Duplicates"
   ]
  },
  {
   "cell_type": "code",
   "execution_count": 24,
   "metadata": {
    "scrolled": true
   },
   "outputs": [
    {
     "name": "stdout",
     "output_type": "stream",
     "text": [
      "Number of Duplicates: 4\n"
     ]
    }
   ],
   "source": [
    "#Find the total number of duplicates based on title\n",
    "print('Number of Duplicates:', tn_movie_budgets['movie'].duplicated().sum())"
   ]
  },
  {
   "cell_type": "code",
   "execution_count": 25,
   "metadata": {},
   "outputs": [
    {
     "name": "stdout",
     "output_type": "stream",
     "text": [
      "Duplicates Remaining: 0\n"
     ]
    }
   ],
   "source": [
    "#Drop duplicates\n",
    "tn_movie_budgets.drop_duplicates(inplace=True)\n",
    "\n",
    "#Check duplicates were dropped\n",
    "print('Duplicates Remaining:', tn_movie_budgets.duplicated().sum())"
   ]
  },
  {
   "cell_type": "markdown",
   "metadata": {},
   "source": [
    "### Merge the TMDB Database with TN Movie Budget Database"
   ]
  },
  {
   "cell_type": "code",
   "execution_count": 26,
   "metadata": {
    "scrolled": true
   },
   "outputs": [],
   "source": [
    "merged_data = pd.merge(filtered_tmdb_movies, tn_movie_budgets, \n",
    "                how='inner', right_on=['movie','release_date'], left_on=['original_title','release_date'])"
   ]
  },
  {
   "cell_type": "code",
   "execution_count": 27,
   "metadata": {},
   "outputs": [
    {
     "name": "stdout",
     "output_type": "stream",
     "text": [
      "Number of Duplicates: 1\n"
     ]
    }
   ],
   "source": [
    "#count of duplicates after joining\n",
    "print('Number of Duplicates:', merged_data['original_title'].duplicated().sum())"
   ]
  },
  {
   "cell_type": "code",
   "execution_count": 28,
   "metadata": {},
   "outputs": [
    {
     "name": "stdout",
     "output_type": "stream",
     "text": [
      "Duplicates Remaining: 0\n"
     ]
    }
   ],
   "source": [
    "merged_data['original_title'].drop_duplicates(inplace=True)\n",
    "print('Duplicates Remaining:', merged_data['original_title'].duplicated().sum())"
   ]
  },
  {
   "cell_type": "code",
   "execution_count": 29,
   "metadata": {},
   "outputs": [
    {
     "data": {
      "text/html": [
       "<div>\n",
       "<style scoped>\n",
       "    .dataframe tbody tr th:only-of-type {\n",
       "        vertical-align: middle;\n",
       "    }\n",
       "\n",
       "    .dataframe tbody tr th {\n",
       "        vertical-align: top;\n",
       "    }\n",
       "\n",
       "    .dataframe thead th {\n",
       "        text-align: right;\n",
       "    }\n",
       "</style>\n",
       "<table border=\"1\" class=\"dataframe\">\n",
       "  <thead>\n",
       "    <tr style=\"text-align: right;\">\n",
       "      <th></th>\n",
       "      <th>original_title</th>\n",
       "      <th>popularity</th>\n",
       "      <th>vote_average</th>\n",
       "      <th>release_date</th>\n",
       "      <th>id</th>\n",
       "      <th>movie</th>\n",
       "      <th>production_budget</th>\n",
       "      <th>domestic_gross</th>\n",
       "      <th>worldwide_gross</th>\n",
       "      <th>gross_profit</th>\n",
       "    </tr>\n",
       "  </thead>\n",
       "  <tbody>\n",
       "    <tr>\n",
       "      <th>0</th>\n",
       "      <td>How to Train Your Dragon</td>\n",
       "      <td>28.734</td>\n",
       "      <td>7.7</td>\n",
       "      <td>2010-03-26</td>\n",
       "      <td>30</td>\n",
       "      <td>How to Train Your Dragon</td>\n",
       "      <td>165000000</td>\n",
       "      <td>217581232</td>\n",
       "      <td>494870992</td>\n",
       "      <td>329870992</td>\n",
       "    </tr>\n",
       "    <tr>\n",
       "      <th>1</th>\n",
       "      <td>Iron Man 2</td>\n",
       "      <td>28.515</td>\n",
       "      <td>6.8</td>\n",
       "      <td>2010-05-07</td>\n",
       "      <td>15</td>\n",
       "      <td>Iron Man 2</td>\n",
       "      <td>170000000</td>\n",
       "      <td>312433331</td>\n",
       "      <td>621156389</td>\n",
       "      <td>451156389</td>\n",
       "    </tr>\n",
       "    <tr>\n",
       "      <th>2</th>\n",
       "      <td>Inception</td>\n",
       "      <td>27.920</td>\n",
       "      <td>8.3</td>\n",
       "      <td>2010-07-16</td>\n",
       "      <td>38</td>\n",
       "      <td>Inception</td>\n",
       "      <td>160000000</td>\n",
       "      <td>292576195</td>\n",
       "      <td>835524642</td>\n",
       "      <td>675524642</td>\n",
       "    </tr>\n",
       "    <tr>\n",
       "      <th>3</th>\n",
       "      <td>Despicable Me</td>\n",
       "      <td>23.673</td>\n",
       "      <td>7.2</td>\n",
       "      <td>2010-07-09</td>\n",
       "      <td>50</td>\n",
       "      <td>Despicable Me</td>\n",
       "      <td>69000000</td>\n",
       "      <td>251513985</td>\n",
       "      <td>543464573</td>\n",
       "      <td>474464573</td>\n",
       "    </tr>\n",
       "    <tr>\n",
       "      <th>4</th>\n",
       "      <td>Alice in Wonderland</td>\n",
       "      <td>22.020</td>\n",
       "      <td>6.6</td>\n",
       "      <td>2010-03-05</td>\n",
       "      <td>51</td>\n",
       "      <td>Alice in Wonderland</td>\n",
       "      <td>200000000</td>\n",
       "      <td>334191110</td>\n",
       "      <td>1025491110</td>\n",
       "      <td>825491110</td>\n",
       "    </tr>\n",
       "  </tbody>\n",
       "</table>\n",
       "</div>"
      ],
      "text/plain": [
       "             original_title  popularity  vote_average release_date  id  \\\n",
       "0  How to Train Your Dragon      28.734           7.7   2010-03-26  30   \n",
       "1                Iron Man 2      28.515           6.8   2010-05-07  15   \n",
       "2                 Inception      27.920           8.3   2010-07-16  38   \n",
       "3             Despicable Me      23.673           7.2   2010-07-09  50   \n",
       "4       Alice in Wonderland      22.020           6.6   2010-03-05  51   \n",
       "\n",
       "                      movie  production_budget  domestic_gross  \\\n",
       "0  How to Train Your Dragon          165000000       217581232   \n",
       "1                Iron Man 2          170000000       312433331   \n",
       "2                 Inception          160000000       292576195   \n",
       "3             Despicable Me           69000000       251513985   \n",
       "4       Alice in Wonderland          200000000       334191110   \n",
       "\n",
       "   worldwide_gross  gross_profit  \n",
       "0        494870992     329870992  \n",
       "1        621156389     451156389  \n",
       "2        835524642     675524642  \n",
       "3        543464573     474464573  \n",
       "4       1025491110     825491110  "
      ]
     },
     "execution_count": 29,
     "metadata": {},
     "output_type": "execute_result"
    }
   ],
   "source": [
    "merged_data.head()"
   ]
  },
  {
   "cell_type": "code",
   "execution_count": 30,
   "metadata": {},
   "outputs": [
    {
     "name": "stdout",
     "output_type": "stream",
     "text": [
      "<class 'pandas.core.frame.DataFrame'>\n",
      "Int64Index: 1028 entries, 0 to 1027\n",
      "Data columns (total 10 columns):\n",
      " #   Column             Non-Null Count  Dtype  \n",
      "---  ------             --------------  -----  \n",
      " 0   original_title     1028 non-null   object \n",
      " 1   popularity         1028 non-null   float64\n",
      " 2   vote_average       1028 non-null   float64\n",
      " 3   release_date       1028 non-null   object \n",
      " 4   id                 1028 non-null   int64  \n",
      " 5   movie              1028 non-null   object \n",
      " 6   production_budget  1028 non-null   int64  \n",
      " 7   domestic_gross     1028 non-null   int64  \n",
      " 8   worldwide_gross    1028 non-null   int64  \n",
      " 9   gross_profit       1028 non-null   int64  \n",
      "dtypes: float64(2), int64(5), object(3)\n",
      "memory usage: 88.3+ KB\n"
     ]
    }
   ],
   "source": [
    "merged_data.info()"
   ]
  },
  {
   "cell_type": "markdown",
   "metadata": {},
   "source": [
    "### Descriptive Statistics for Vote Average and Gross Profit"
   ]
  },
  {
   "cell_type": "code",
   "execution_count": 31,
   "metadata": {},
   "outputs": [
    {
     "data": {
      "text/html": [
       "<div>\n",
       "<style scoped>\n",
       "    .dataframe tbody tr th:only-of-type {\n",
       "        vertical-align: middle;\n",
       "    }\n",
       "\n",
       "    .dataframe tbody tr th {\n",
       "        vertical-align: top;\n",
       "    }\n",
       "\n",
       "    .dataframe thead th {\n",
       "        text-align: right;\n",
       "    }\n",
       "</style>\n",
       "<table border=\"1\" class=\"dataframe\">\n",
       "  <thead>\n",
       "    <tr style=\"text-align: right;\">\n",
       "      <th></th>\n",
       "      <th>popularity</th>\n",
       "      <th>vote_average</th>\n",
       "      <th>id</th>\n",
       "      <th>production_budget</th>\n",
       "      <th>domestic_gross</th>\n",
       "      <th>worldwide_gross</th>\n",
       "      <th>gross_profit</th>\n",
       "    </tr>\n",
       "  </thead>\n",
       "  <tbody>\n",
       "    <tr>\n",
       "      <th>count</th>\n",
       "      <td>1028.00</td>\n",
       "      <td>1028.00</td>\n",
       "      <td>1028.00</td>\n",
       "      <td>1028.00</td>\n",
       "      <td>1028.00</td>\n",
       "      <td>1028.00</td>\n",
       "      <td>1028.00</td>\n",
       "    </tr>\n",
       "    <tr>\n",
       "      <th>mean</th>\n",
       "      <td>14.77</td>\n",
       "      <td>6.38</td>\n",
       "      <td>51.19</td>\n",
       "      <td>52724594.02</td>\n",
       "      <td>67428142.50</td>\n",
       "      <td>170679620.70</td>\n",
       "      <td>117955026.68</td>\n",
       "    </tr>\n",
       "    <tr>\n",
       "      <th>std</th>\n",
       "      <td>7.98</td>\n",
       "      <td>0.78</td>\n",
       "      <td>28.73</td>\n",
       "      <td>58664335.25</td>\n",
       "      <td>90496828.26</td>\n",
       "      <td>250969660.03</td>\n",
       "      <td>208448622.84</td>\n",
       "    </tr>\n",
       "    <tr>\n",
       "      <th>min</th>\n",
       "      <td>0.60</td>\n",
       "      <td>4.00</td>\n",
       "      <td>1.00</td>\n",
       "      <td>100000.00</td>\n",
       "      <td>0.00</td>\n",
       "      <td>0.00</td>\n",
       "      <td>-110450242.00</td>\n",
       "    </tr>\n",
       "    <tr>\n",
       "      <th>25%</th>\n",
       "      <td>9.61</td>\n",
       "      <td>5.90</td>\n",
       "      <td>26.75</td>\n",
       "      <td>12575000.00</td>\n",
       "      <td>14098195.50</td>\n",
       "      <td>25586094.50</td>\n",
       "      <td>5660857.50</td>\n",
       "    </tr>\n",
       "    <tr>\n",
       "      <th>50%</th>\n",
       "      <td>12.78</td>\n",
       "      <td>6.40</td>\n",
       "      <td>51.00</td>\n",
       "      <td>30000000.00</td>\n",
       "      <td>37536535.50</td>\n",
       "      <td>77127940.50</td>\n",
       "      <td>41992603.00</td>\n",
       "    </tr>\n",
       "    <tr>\n",
       "      <th>75%</th>\n",
       "      <td>17.27</td>\n",
       "      <td>6.90</td>\n",
       "      <td>77.00</td>\n",
       "      <td>68250000.00</td>\n",
       "      <td>79929883.75</td>\n",
       "      <td>197523215.00</td>\n",
       "      <td>128998065.00</td>\n",
       "    </tr>\n",
       "    <tr>\n",
       "      <th>max</th>\n",
       "      <td>80.77</td>\n",
       "      <td>8.40</td>\n",
       "      <td>100.00</td>\n",
       "      <td>410600000.00</td>\n",
       "      <td>700059566.00</td>\n",
       "      <td>2048134200.00</td>\n",
       "      <td>1748134200.00</td>\n",
       "    </tr>\n",
       "  </tbody>\n",
       "</table>\n",
       "</div>"
      ],
      "text/plain": [
       "       popularity  vote_average      id  production_budget  domestic_gross  \\\n",
       "count     1028.00       1028.00 1028.00            1028.00         1028.00   \n",
       "mean        14.77          6.38   51.19        52724594.02     67428142.50   \n",
       "std          7.98          0.78   28.73        58664335.25     90496828.26   \n",
       "min          0.60          4.00    1.00          100000.00            0.00   \n",
       "25%          9.61          5.90   26.75        12575000.00     14098195.50   \n",
       "50%         12.78          6.40   51.00        30000000.00     37536535.50   \n",
       "75%         17.27          6.90   77.00        68250000.00     79929883.75   \n",
       "max         80.77          8.40  100.00       410600000.00    700059566.00   \n",
       "\n",
       "       worldwide_gross  gross_profit  \n",
       "count          1028.00       1028.00  \n",
       "mean      170679620.70  117955026.68  \n",
       "std       250969660.03  208448622.84  \n",
       "min               0.00 -110450242.00  \n",
       "25%        25586094.50    5660857.50  \n",
       "50%        77127940.50   41992603.00  \n",
       "75%       197523215.00  128998065.00  \n",
       "max      2048134200.00 1748134200.00  "
      ]
     },
     "execution_count": 31,
     "metadata": {},
     "output_type": "execute_result"
    }
   ],
   "source": [
    "pd.options.display.float_format = '{:.2f}'.format\n",
    "round(merged_data.describe(),2)"
   ]
  },
  {
   "cell_type": "markdown",
   "metadata": {},
   "source": [
    "### Top 20 Profit Margin Movies (2010-2020)"
   ]
  },
  {
   "cell_type": "code",
   "execution_count": 32,
   "metadata": {
    "scrolled": true
   },
   "outputs": [
    {
     "data": {
      "text/html": [
       "<div>\n",
       "<style scoped>\n",
       "    .dataframe tbody tr th:only-of-type {\n",
       "        vertical-align: middle;\n",
       "    }\n",
       "\n",
       "    .dataframe tbody tr th {\n",
       "        vertical-align: top;\n",
       "    }\n",
       "\n",
       "    .dataframe thead th {\n",
       "        text-align: right;\n",
       "    }\n",
       "</style>\n",
       "<table border=\"1\" class=\"dataframe\">\n",
       "  <thead>\n",
       "    <tr style=\"text-align: right;\">\n",
       "      <th></th>\n",
       "      <th>original_title</th>\n",
       "      <th>gross_profit</th>\n",
       "    </tr>\n",
       "  </thead>\n",
       "  <tbody>\n",
       "    <tr>\n",
       "      <th>929</th>\n",
       "      <td>Avengers: Infinity War</td>\n",
       "      <td>1748134200</td>\n",
       "    </tr>\n",
       "    <tr>\n",
       "      <th>580</th>\n",
       "      <td>Jurassic World</td>\n",
       "      <td>1433854864</td>\n",
       "    </tr>\n",
       "    <tr>\n",
       "      <th>583</th>\n",
       "      <td>Furious 7</td>\n",
       "      <td>1328722794</td>\n",
       "    </tr>\n",
       "    <tr>\n",
       "      <th>222</th>\n",
       "      <td>The Avengers</td>\n",
       "      <td>1292935897</td>\n",
       "    </tr>\n",
       "    <tr>\n",
       "      <th>932</th>\n",
       "      <td>Black Panther</td>\n",
       "      <td>1148258224</td>\n",
       "    </tr>\n",
       "    <tr>\n",
       "      <th>941</th>\n",
       "      <td>Jurassic World: Fallen Kingdom</td>\n",
       "      <td>1135772799</td>\n",
       "    </tr>\n",
       "    <tr>\n",
       "      <th>830</th>\n",
       "      <td>Beauty and the Beast</td>\n",
       "      <td>1099199706</td>\n",
       "    </tr>\n",
       "    <tr>\n",
       "      <th>655</th>\n",
       "      <td>Minions</td>\n",
       "      <td>1086336173</td>\n",
       "    </tr>\n",
       "    <tr>\n",
       "      <th>563</th>\n",
       "      <td>Avengers: Age of Ultron</td>\n",
       "      <td>1072413963</td>\n",
       "    </tr>\n",
       "    <tr>\n",
       "      <th>939</th>\n",
       "      <td>Incredibles 2</td>\n",
       "      <td>1042520711</td>\n",
       "    </tr>\n",
       "  </tbody>\n",
       "</table>\n",
       "</div>"
      ],
      "text/plain": [
       "                     original_title  gross_profit\n",
       "929          Avengers: Infinity War    1748134200\n",
       "580                  Jurassic World    1433854864\n",
       "583                       Furious 7    1328722794\n",
       "222                    The Avengers    1292935897\n",
       "932                   Black Panther    1148258224\n",
       "941  Jurassic World: Fallen Kingdom    1135772799\n",
       "830            Beauty and the Beast    1099199706\n",
       "655                         Minions    1086336173\n",
       "563         Avengers: Age of Ultron    1072413963\n",
       "939                   Incredibles 2    1042520711"
      ]
     },
     "execution_count": 32,
     "metadata": {},
     "output_type": "execute_result"
    }
   ],
   "source": [
    "top_10_grossprofit = merged_data.loc[:,['original_title',\n",
    "                                        'gross_profit']].sort_values(by='gross_profit',\n",
    "                                                                     ascending=False).head(10)\n",
    "top_10_grossprofit.head(10)"
   ]
  },
  {
   "cell_type": "code",
   "execution_count": 33,
   "metadata": {},
   "outputs": [
    {
     "data": {
      "text/plain": [
       "Text(0.5, 0, 'Gross Profit (In Billions) Based on Highest Profitable Movies')"
      ]
     },
     "execution_count": 33,
     "metadata": {},
     "output_type": "execute_result"
    },
    {
     "data": {
      "image/png": "[encoded data removed]",
      "text/plain": [
       "<Figure size 1080x432 with 1 Axes>"
      ]
     },
     "metadata": {},
     "output_type": "display_data"
    }
   ],
   "source": [
    "plt.figure(figsize=(15,6))\n",
    "plt.barh(top_10_grossprofit['original_title'],top_10_grossprofit['gross_profit'])\n",
    "\n",
    "plt.title('Top 10 Movies with the Highest Profit Margin (2010-2020)',fontsize=20)\n",
    "plt.xlabel('Gross Profit (In Billions) Based on Highest Profitable Movies')"
   ]
  },
  {
   "cell_type": "markdown",
   "metadata": {},
   "source": [
    "### Plotting Relationship between Vote Average and Profit Margin"
   ]
  },
  {
   "cell_type": "code",
   "execution_count": 34,
   "metadata": {},
   "outputs": [
    {
     "data": {
      "image/png": "[encoded data removed]",
      "text/plain": [
       "<Figure size 1080x720 with 1 Axes>"
      ]
     },
     "metadata": {},
     "output_type": "display_data"
    }
   ],
   "source": [
    "sns.set_style({'grid.color':'black',\n",
    "               'axes.facecolor':'white',\n",
    "               'figure.facecolor':'white',\n",
    "               'axes.edgecolor':'black',\n",
    "               'axes.labelcolor':'black',\n",
    "               'xtick.color':'black',\n",
    "               'ytick.color':'black'})\n",
    "\n",
    "\n",
    "plt.figure(figsize=(15,10))\n",
    "ax = sns.regplot(x='vote_average',y='gross_profit',data=merged_data)\n",
    "ax.set(xlabel='Vote Average', ylabel='Gross Profit (In Billions)')\n",
    "plt.title('Relationship between Vote Average and Profit Margin for Movies (2010 - 2020)',fontsize=20)\n",
    "plt.show()\n",
    "\n"
   ]
  },
  {
   "cell_type": "code",
   "execution_count": 35,
   "metadata": {},
   "outputs": [
    {
     "data": {
      "text/plain": [
       "0.2965503449562171"
      ]
     },
     "execution_count": 35,
     "metadata": {},
     "output_type": "execute_result"
    }
   ],
   "source": [
    "correlation = merged_data['vote_average'].corr(merged_data['gross_profit'])\n",
    "correlation"
   ]
  },
  {
   "cell_type": "markdown",
   "metadata": {},
   "source": [
    "### Plotting Relationship between Popularity and Profit Margin"
   ]
  },
  {
   "cell_type": "code",
   "execution_count": 36,
   "metadata": {},
   "outputs": [
    {
     "data": {
      "image/png": "[encoded data removed]",
      "text/plain": [
       "<Figure size 1080x720 with 1 Axes>"
      ]
     },
     "metadata": {},
     "output_type": "display_data"
    }
   ],
   "source": [
    "sns.set_style({'grid.color':'black',\n",
    "               'axes.facecolor':'white',\n",
    "               'figure.facecolor':'white',\n",
    "               'axes.edgecolor':'black',\n",
    "               'axes.labelcolor':'black',\n",
    "               'xtick.color':'black',\n",
    "               'ytick.color':'black'})\n",
    "plt.figure(figsize=(15,10))\n",
    "ax = sns.regplot(x='popularity',y='gross_profit',data=merged_data)\n",
    "ax.set(xlabel='Popularity', ylabel='Profit Margin (In Billions)')\n",
    "plt.title('Relationship between Popularity and Profit Margin for Movies (2010 - 2020)',fontsize=20)\n",
    "plt.show()"
   ]
  },
  {
   "cell_type": "code",
   "execution_count": 37,
   "metadata": {},
   "outputs": [
    {
     "data": {
      "text/plain": [
       "0.5998378051823429"
      ]
     },
     "execution_count": 37,
     "metadata": {},
     "output_type": "execute_result"
    }
   ],
   "source": [
    "correlation = merged_data['popularity'].corr(merged_data['gross_profit'])\n",
    "correlation"
   ]
  },
  {
   "cell_type": "markdown",
   "metadata": {},
   "source": [
    "### Q3 - Conclusion"
   ]
  },
  {
   "cell_type": "markdown",
   "metadata": {},
   "source": [
    "All three relationships have positive relationships.\n",
    "\n",
    "- Popularity and Vote Average (0.22)\n",
    "- Vote Average and Profit Margin (0.30)\n",
    "- Popularity and Profit Margin (0.60)\n",
    "\n",
    "Popularity and Profit Margin had the highest correlation among the three relationships. As a movie's popularity increases, profit margin will increase."
   ]
  },
  {
   "cell_type": "code",
   "execution_count": null,
   "metadata": {},
   "outputs": [],
   "source": []
  }
 ],
 "metadata": {
  "kernelspec": {
   "display_name": "Python 3",
   "language": "python",
   "name": "python3"
  },
  "language_info": {
   "codemirror_mode": {
    "name": "ipython",
    "version": 3
   },
   "file_extension": ".py",
   "mimetype": "text/x-python",
   "name": "python",
   "nbconvert_exporter": "python",
   "pygments_lexer": "ipython3",
   "version": "3.7.6"
  }
 },
 "nbformat": 4,
 "nbformat_minor": 2
}
